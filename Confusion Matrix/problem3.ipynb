{
 "cells": [
  {
   "cell_type": "code",
   "execution_count": 2,
   "id": "e288d634",
   "metadata": {},
   "outputs": [],
   "source": [
    "import pandas as pd\n",
    "#read data and  exchange to datetime type\n",
    "df1 = pd.read_csv('Stanford 15-min emissions data.csv')\n",
    "df2 = pd.read_csv('sort_meterDF_SOOFIE(1).csv')\n",
    "def tran_num(x):\n",
    "    '''\n",
    "    change to number from string\n",
    "    '''\n",
    "    x = x.replace(',','')\n",
    "    return float(x)\n",
    "    \n",
    "df1['emission'] = df1['emission'].apply(tran_num)\n",
    "df1['sci_av_time'] = pd.to_datetime(df1['id'], format='Stanford:%Y-%m-%dT%H:%M')\n",
    "df2['date'] = df2['date'].apply(lambda x:x[0:-6])\n",
    "df2['meter_time'] = pd.to_datetime(df2['date'], format='%Y-%m-%d %H:%M:%S')#2021-10-17 17:43:59+00:00"
   ]
  },
  {
   "cell_type": "code",
   "execution_count": 3,
   "id": "97090ac8",
   "metadata": {},
   "outputs": [],
   "source": [
    "#rolling 15 min\n",
    "# df2['instantaneous_kgh_roll'] = df2['moving_kgh'].rolling(window=1500).mean()"
   ]
  },
  {
   "cell_type": "code",
   "execution_count": 7,
   "id": "4ad1bc8b",
   "metadata": {},
   "outputs": [
    {
     "name": "stderr",
     "output_type": "stream",
     "text": [
      "/Users/xiaohanli/opt/anaconda3/lib/python3.8/site-packages/pandas/core/indexing.py:1732: SettingWithCopyWarning: \n",
      "A value is trying to be set on a copy of a slice from a DataFrame\n",
      "\n",
      "See the caveats in the documentation: https://pandas.pydata.org/pandas-docs/stable/user_guide/indexing.html#returning-a-view-versus-a-copy\n",
      "  self._setitem_single_block(indexer, value, name)\n"
     ]
    }
   ],
   "source": [
    "#sort_meterDF_SOOFIE(1) only retain the 15min data\n",
    "df2['check'] = False\n",
    "for i in range(len(df2)):\n",
    "    if df2['meter_time'].iloc[i].minute % 15 == 0 and df2['meter_time'].iloc[i].second % 60 == 0:\n",
    "        df2['check'].iloc[i] = True\n",
    "df2_15_min =  df2[df2['check'] == True]\n"
   ]
  },
  {
   "cell_type": "code",
   "execution_count": 9,
   "id": "fbdcc2e0",
   "metadata": {
    "code_folding": []
   },
   "outputs": [],
   "source": [
    "# split to time series and not time series\n",
    "begin = [1119,1042,983,925,863,814,754,684,544,483,422,114,61]\n",
    "end = [1129,1051,996,932,875,817,760,687,553,487,430,129,70]\n",
    "df1['emi'] = True\n",
    "for i in range(len(df1)):\n",
    "    for begin1,end1 in zip(begin,end):\n",
    "        if i >=begin1 and i < end1:\n",
    "            df1.loc[i,'emi'] = False\n",
    "df1_not_in_time = df1[df1['emi']==True]\n",
    "df1_in_time = df1[df1['emi']==False]\n"
   ]
  },
  {
   "cell_type": "code",
   "execution_count": 5,
   "id": "aabbb0f1",
   "metadata": {
    "code_folding": [
     0
    ]
   },
   "outputs": [],
   "source": [
    "#\n",
    "import numpy as np\n",
    "def cal_con_matrix(df2,df1):\n",
    "    '''\n",
    "    calculate the confusion matrix\n",
    "    '''\n",
    "    TN = 0\n",
    "    FP = 0\n",
    "    FN = 0\n",
    "    TP = 0\n",
    "    for i in range(len(df1)):\n",
    "        for j in range(len(df2)):\n",
    "            #find the same time\n",
    "            delta = df1['sci_av_time'].iloc[i] - df2['meter_time'].iloc[j]\n",
    "            if delta.seconds == 0 and delta.days == 0:\n",
    "                \n",
    "                if df1['emission'].iloc[i] != 0 and df2['moving_kgh'].iloc[j] != 0:\n",
    "                    TP += 1\n",
    "                if df1['emission'].iloc[i] != 0 and df2['moving_kgh'].iloc[j] == 0:\n",
    "                    FP += 1\n",
    "                if df1['emission'].iloc[i] == 0 and df2['moving_kgh'].iloc[j] != 0:\n",
    "                    FN += 1\n",
    "                if df1['emission'].iloc[i] == 0 and df2['moving_kgh'].iloc[j] == 0:\n",
    "                    TN += 1\n",
    "    return np.array([[TP,FP],[FN,TN]])\n",
    "matrix1 = cal_con_matrix(df2_15_min,df1_not_in_time)\n",
    "matrix2 = cal_con_matrix(df2_15_min,df1_in_time)\n",
    "matrix3 = matrix1 + matrix2\n"
   ]
  },
  {
   "cell_type": "code",
   "execution_count": 5,
   "id": "39d165da",
   "metadata": {
    "code_folding": [
     0
    ]
   },
   "outputs": [
    {
     "ename": "NameError",
     "evalue": "name 'matrix2' is not defined",
     "output_type": "error",
     "traceback": [
      "\u001b[0;31m---------------------------------------------------------------------------\u001b[0m",
      "\u001b[0;31mNameError\u001b[0m                                 Traceback (most recent call last)",
      "\u001b[0;32m/var/folders/9r/7zhcsk9d5xg9xlmmqf14l1hc0000gn/T/ipykernel_88011/1604796344.py\u001b[0m in \u001b[0;36m<module>\u001b[0;34m\u001b[0m\n\u001b[1;32m     32\u001b[0m     \u001b[0mplt\u001b[0m\u001b[0;34m.\u001b[0m\u001b[0mshow\u001b[0m\u001b[0;34m(\u001b[0m\u001b[0;34m)\u001b[0m\u001b[0;34m\u001b[0m\u001b[0;34m\u001b[0m\u001b[0m\n\u001b[1;32m     33\u001b[0m \u001b[0;34m\u001b[0m\u001b[0m\n\u001b[0;32m---> 34\u001b[0;31m \u001b[0mplot_confusion_matrix\u001b[0m\u001b[0;34m(\u001b[0m\u001b[0mmatrix2\u001b[0m\u001b[0;34m,\u001b[0m\u001b[0;34m'Confusion matrix During the Hour Release'\u001b[0m\u001b[0;34m)\u001b[0m\u001b[0;34m\u001b[0m\u001b[0;34m\u001b[0m\u001b[0m\n\u001b[0m\u001b[1;32m     35\u001b[0m \u001b[0mplot_confusion_matrix\u001b[0m\u001b[0;34m(\u001b[0m\u001b[0mmatrix1\u001b[0m\u001b[0;34m,\u001b[0m\u001b[0;34m'Confusion matrix Off the Hour Released'\u001b[0m\u001b[0;34m)\u001b[0m\u001b[0;34m\u001b[0m\u001b[0;34m\u001b[0m\u001b[0m\n\u001b[1;32m     36\u001b[0m \u001b[0mplot_confusion_matrix\u001b[0m\u001b[0;34m(\u001b[0m\u001b[0mmatrix3\u001b[0m\u001b[0;34m,\u001b[0m\u001b[0;34m'Confusion matrix'\u001b[0m\u001b[0;34m)\u001b[0m\u001b[0;34m\u001b[0m\u001b[0;34m\u001b[0m\u001b[0m\n",
      "\u001b[0;31mNameError\u001b[0m: name 'matrix2' is not defined"
     ]
    }
   ],
   "source": [
    "#\n",
    "import matplotlib.pyplot as plt\n",
    "import seaborn as sns\n",
    "import matplotlib.colors as mcolors\n",
    "def plot_confusion_matrix(cm,title):\n",
    "    plt.figure(figsize=(12,8))\n",
    "    colors = ['white','#8C1515']\n",
    "    cmap1 = mcolors.LinearSegmentedColormap.from_list('cmap1', colors)\n",
    "    plt.imshow(cm,cmap=cmap1)    # 在特定的窗口上显示图像\n",
    "    plt.title(title,fontsize=20)    # 图像标题\n",
    "    plt.colorbar()\n",
    "    labels_name = ['Positive','Negative']\n",
    "    labels_name2 = ['Positive','Negative']\n",
    "    num_local = np.array(range(len(labels_name)))    \n",
    "    plt.xticks(num_local, labels_name, rotation=90)    # 将标签印在x轴坐标上\n",
    "    plt.yticks(num_local, labels_name2)    # 将标签印在y轴坐标上\n",
    "    plt.ylabel('Stanford Release Volume')\n",
    "    plt.xlabel('Sci Avi Release Volume')\n",
    "    all_cm = cm[0][0] + cm[0][1] + cm[1][0] + cm[1][1]\n",
    "    plt.text(0,0,'TP\\n{0}\\n{1:.2f}%'.format(cm[0][0],cm[0][0]/all_cm*100),fontsize=15,\n",
    "        verticalalignment=\"center\",\n",
    "        horizontalalignment=\"center\")\n",
    "    plt.text(1,0,'FP\\n{0}\\n{1:.2f}%'.format(cm[0][1],cm[0][1]/all_cm*100),fontsize=15,\n",
    "        verticalalignment=\"center\",\n",
    "        horizontalalignment=\"center\")\n",
    "    plt.text(0,1,'FN\\n{0}\\n{1:.2f}%'.format(cm[1][0],cm[1][0]/all_cm*100),fontsize=15,\n",
    "        verticalalignment=\"center\",\n",
    "        horizontalalignment=\"center\")\n",
    "    plt.text(1,1,'TN\\n{0}\\n{1:.2f}%'.format(cm[1][1],cm[1][1]/all_cm*100),fontsize=15,\n",
    "        verticalalignment=\"center\",\n",
    "        horizontalalignment=\"center\")\n",
    "    plt.show()\n",
    "    \n",
    "plot_confusion_matrix(matrix2,'Confusion matrix During the Hour Release')\n",
    "plot_confusion_matrix(matrix1,'Confusion matrix Off the Hour Released')\n",
    "plot_confusion_matrix(matrix3,'Confusion matrix')\n"
   ]
  },
  {
   "cell_type": "code",
   "execution_count": 29,
   "id": "32200fe9",
   "metadata": {},
   "outputs": [
    {
     "name": "stdout",
     "output_type": "stream",
     "text": [
      "66\n",
      "97\n",
      "max_me 1588.03\n"
     ]
    },
    {
     "data": {
      "image/png": "[encoded data removed]",
      "text/plain": [
       "<Figure size 864x576 with 1 Axes>"
      ]
     },
     "metadata": {
      "needs_background": "light"
     },
     "output_type": "display_data"
    }
   ],
   "source": [
    "#放大图\n",
    "#实现条形图\n",
    "import numpy as np\n",
    "import matplotlib.pyplot as plt\n",
    "%matplotlib inline\n",
    "def cal_data(df2,df1):\n",
    "    '''\n",
    "    calculate the confusion matrix\n",
    "    '''\n",
    "    TN = 0\n",
    "    FP = 0\n",
    "    FN = 0\n",
    "    TP = 0\n",
    "    #计算FP的15分钟数据\n",
    "    lst1 = []\n",
    "    #计算15分钟数据所有非零的数据\n",
    "    lst2 = []\n",
    "    for i in range(len(df1)):\n",
    "        for j in range(len(df2)):\n",
    "            #find the same time\n",
    "            delta = df1['sci_av_time'].iloc[i] - df2['meter_time'].iloc[j]\n",
    "            if delta.seconds == 0 and delta.days == 0:\n",
    "                \n",
    "                if df1['emission'].iloc[i] != 0 and df2['moving_kgh'].iloc[j] != 0:\n",
    "                    TP += 1\n",
    "                    lst1.append(df1['emission'].iloc[i])\n",
    "                    lst2.append(df1['emission'].iloc[i])\n",
    "                if df1['emission'].iloc[i] != 0 and df2['moving_kgh'].iloc[j] == 0:\n",
    "                    FP += 1\n",
    "                if df1['emission'].iloc[i] == 0 and df2['moving_kgh'].iloc[j] != 0:\n",
    "                    lst2.append(df1['emission'].iloc[i])\n",
    "                    FN += 1\n",
    "                if df1['emission'].iloc[i] == 0 and df2['moving_kgh'].iloc[j] == 0:\n",
    "                    TN += 1\n",
    "          \n",
    "    return lst1,lst2\n",
    "\n",
    "def draw_bar(lst1,lst2):\n",
    "    '''\n",
    "    lst1:FP的15分钟数据\n",
    "    lst2:15分钟数据所有非零的数据\n",
    "    '''\n",
    "    max_me = max(lst2)\n",
    "    print('max_me',max_me)\n",
    "    x = []\n",
    "    q = max_me//(max_me//10)\n",
    "    for i in range(int(q+2)):\n",
    "        x.append(i*(max_me//10))\n",
    "    x = [0,5,15,75,375,1800]\n",
    "    plt.figure(figsize=(12,8))\n",
    "    count1 = []\n",
    "    count2 = []\n",
    "    y = []\n",
    "    var_lst = []\n",
    "    num1 = 0\n",
    "    for j in range(len(lst1)):\n",
    "        if lst1[j] >= x[0] and lst1[j]<=x[1]:\n",
    "            num1 += 1\n",
    "    count1.append(num1)    \n",
    "    num2 = 0\n",
    "    var = []\n",
    "    for j in range(len(lst2)):\n",
    "        if lst2[j] >= x[0] and lst2[j]<=x[1]:\n",
    "            var.append(lst2[j])\n",
    "            num2 += 1\n",
    "    var_lst.append(var)\n",
    "    count2.append(num2)\n",
    "    if num2 == 0:\n",
    "        y.append(0)\n",
    "    else:\n",
    "        y.append(num1/num2)\n",
    "    for i in range(1,len(x)-1):\n",
    "        num1 = 0\n",
    "        var = []\n",
    "        for j in range(len(lst1)):\n",
    "            \n",
    "            if lst1[j] > x[i] and lst1[j] <= x[i+1]:\n",
    "                num1 = num1 + 1\n",
    "        count1.append(num1)\n",
    "        num2 = 0\n",
    "        for j in range(len(lst2)):\n",
    "            \n",
    "            if lst2[j] > x[i] and lst2[j] <= x[i+1]:\n",
    "                var.append(lst2[j])\n",
    "                num2 = num2 + 1\n",
    "        var_lst.append(var)\n",
    "        count2.append(num2)\n",
    "        if num2 == 0:\n",
    "            y.append(0)\n",
    "        else:\n",
    "            y.append(num1/num2)\n",
    "    x_ticks = []\n",
    "    for i in range(len(y)):\n",
    "        x_ticks.append(i)\n",
    "    plt.bar(np.array(x_ticks)-0.5,y,color = '#8C1515')\n",
    "    plt.xticks(x_ticks,x[1:])\n",
    "    plt.xlabel('Methane Release Rate',fontsize=18)\n",
    "    plt.ylabel('Proportion Detected',fontsize=18)\n",
    "    plt.ylim(-0.05,1.05)\n",
    "    var_lst_new = [] # 归一化\n",
    "    for var in var_lst:\n",
    "        var = [i/max(var) for i in var]\n",
    "        var_lst_new.append(var)\n",
    "    error=[np.var(i) for i in var_lst_new] # 误差范围函数\n",
    "    error_not_0 = []\n",
    "    for i in range(len(y)):\n",
    "        if y[i] != 1:\n",
    "            error_not_0.append(error[i])\n",
    "        else:\n",
    "            error_not_0.append(0)\n",
    "    error_range=[error_not_0,error_not_0] #下置信度和上置信度\n",
    "#     plt.errorbar(x_ticks,y,yerr=error_range)\n",
    "    plt.errorbar(x_ticks,y,yerr=error_range,fmt='o',ecolor='#53565A',color='#53565A',elinewidth=2,capsize=4)\n",
    "    for i in range(len(y)):\n",
    "        plt.text(x_ticks[i],0.02,str(count1[i])+'/'+str(count2[i]),fontsize=12,horizontalalignment='center')\n",
    "    plt.show()\n",
    "    \n",
    "if __name__ == '__main__':\n",
    "    \n",
    "    lst1,lst2 = cal_data(df2_15_min,df1_in_time)\n",
    "    print(len(lst1))\n",
    "    print(len(lst2))\n",
    "    draw_bar(lst1,lst2)\n",
    "    "
   ]
  },
  {
   "cell_type": "code",
   "execution_count": null,
   "id": "b85b0024",
   "metadata": {},
   "outputs": [],
   "source": []
  }
 ],
 "metadata": {
  "kernelspec": {
   "display_name": "Python 3 (ipykernel)",
   "language": "python",
   "name": "python3"
  },
  "language_info": {
   "codemirror_mode": {
    "name": "ipython",
    "version": 3
   },
   "file_extension": ".py",
   "mimetype": "text/x-python",
   "name": "python",
   "nbconvert_exporter": "python",
   "pygments_lexer": "ipython3",
   "version": "3.8.12"
  }
 },
 "nbformat": 4,
 "nbformat_minor": 5
}
